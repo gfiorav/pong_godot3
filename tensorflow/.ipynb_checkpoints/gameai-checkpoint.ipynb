{
 "cells": [
  {
   "cell_type": "code",
   "execution_count": 1,
   "metadata": {},
   "outputs": [
    {
     "name": "stdout",
     "output_type": "stream",
     "text": [
      "2.2.0\n"
     ]
    }
   ],
   "source": [
    "# TensorFlow and tf.keras\n",
    "import tensorflow as tf\n",
    "from tensorflow import keras\n",
    "\n",
    "\n",
    "# Helper libraries\n",
    "import numpy as np\n",
    "import matplotlib.pyplot as plt\n",
    "\n",
    "print(tf.__version__)"
   ]
  },
  {
   "cell_type": "code",
   "execution_count": 46,
   "metadata": {},
   "outputs": [],
   "source": [
    "from csv import reader\n",
    "\n",
    "train_data = []\n",
    "train_labels = []\n",
    "with open(\"raw_game_data/training.csv\", \"r\") as train_file:\n",
    "    csv_reader = reader(train_file, delimiter=\",\")\n",
    "    next(csv_reader)\n",
    "\n",
    "    for row in csv_reader:\n",
    "        train_labels.append(int(row[0]))\n",
    "        train_data.append(list(map(lambda r: float(r), row[1:])))\n",
    "        \n",
    "test_data = []\n",
    "test_labels = []\n",
    "with open(\"raw_game_data/testing.csv\", \"r\") as train_file:\n",
    "    csv_reader = reader(train_file, delimiter=\",\")\n",
    "    next(csv_reader)\n",
    "\n",
    "    for row in csv_reader:\n",
    "        test_labels.append(int(row[0]))\n",
    "        test_data.append(list(map(lambda r: float(r), row[1:])))"
   ]
  },
  {
   "cell_type": "code",
   "execution_count": 47,
   "metadata": {},
   "outputs": [],
   "source": [
    "model = keras.Sequential([\n",
    "    keras.layers.Dense(128, activation=\"relu\"),\n",
    "    keras.layers.Dense(10),\n",
    "])"
   ]
  },
  {
   "cell_type": "code",
   "execution_count": 48,
   "metadata": {},
   "outputs": [
    {
     "name": "stdout",
     "output_type": "stream",
     "text": [
      "163853\n",
      "163853\n"
     ]
    }
   ],
   "source": [
    "model.compile(\n",
    "    optimizer=\"adam\",\n",
    "    loss=keras.losses.SparseCategoricalCrossentropy(from_logits=True),\n",
    "    metrics=[\"accuracy\"],\n",
    ")\n",
    "\n",
    "print(len(train_data))\n",
    "print(len(train_labels))"
   ]
  },
  {
   "cell_type": "code",
   "execution_count": 49,
   "metadata": {},
   "outputs": [
    {
     "name": "stdout",
     "output_type": "stream",
     "text": [
      "Epoch 1/10\n",
      "5121/5121 [==============================] - 4s 725us/step - loss: 1.4985 - accuracy: 0.5222\n",
      "Epoch 2/10\n",
      "5121/5121 [==============================] - 4s 695us/step - loss: 0.8699 - accuracy: 0.5319\n",
      "Epoch 3/10\n",
      "5121/5121 [==============================] - 4s 718us/step - loss: 0.8305 - accuracy: 0.5359\n",
      "Epoch 4/10\n",
      "5121/5121 [==============================] - 4s 686us/step - loss: 0.7797 - accuracy: 0.5404\n",
      "Epoch 5/10\n",
      "5121/5121 [==============================] - 4s 698us/step - loss: 0.7435 - accuracy: 0.5491\n",
      "Epoch 6/10\n",
      "5121/5121 [==============================] - 4s 720us/step - loss: 0.7077 - accuracy: 0.5564\n",
      "Epoch 7/10\n",
      "5121/5121 [==============================] - 3s 675us/step - loss: 0.6865 - accuracy: 0.5664\n",
      "Epoch 8/10\n",
      "5121/5121 [==============================] - 4s 703us/step - loss: 0.6739 - accuracy: 0.5715\n",
      "Epoch 9/10\n",
      "5121/5121 [==============================] - 4s 801us/step - loss: 0.6660 - accuracy: 0.5793\n",
      "Epoch 10/10\n",
      "5121/5121 [==============================] - 5s 898us/step - loss: 0.6617 - accuracy: 0.5851\n"
     ]
    },
    {
     "data": {
      "text/plain": [
       "<tensorflow.python.keras.callbacks.History at 0x7f3a52a6c220>"
      ]
     },
     "execution_count": 49,
     "metadata": {},
     "output_type": "execute_result"
    }
   ],
   "source": [
    "model.fit(train_data, train_labels, epochs=10)"
   ]
  },
  {
   "cell_type": "code",
   "execution_count": null,
   "metadata": {},
   "outputs": [],
   "source": [
    "probability_model = tf.keras.Sequential([\n",
    "    model, \n",
    "    tf.keras.layers.Softmax(),\n",
    "])"
   ]
  }
 ],
 "metadata": {
  "kernelspec": {
   "display_name": "Python 3",
   "language": "python",
   "name": "python3"
  },
  "language_info": {
   "codemirror_mode": {
    "name": "ipython",
    "version": 3
   },
   "file_extension": ".py",
   "mimetype": "text/x-python",
   "name": "python",
   "nbconvert_exporter": "python",
   "pygments_lexer": "ipython3",
   "version": "3.8.2"
  }
 },
 "nbformat": 4,
 "nbformat_minor": 4
}
