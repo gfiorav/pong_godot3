{
 "cells": [
  {
   "cell_type": "code",
   "execution_count": 1,
   "metadata": {},
   "outputs": [
    {
     "name": "stdout",
     "output_type": "stream",
     "text": [
      "2.2.0\n"
     ]
    }
   ],
   "source": [
    "# TensorFlow and tf.keras\n",
    "import tensorflow as tf\n",
    "from tensorflow import keras\n",
    "\n",
    "\n",
    "# Helper libraries\n",
    "import numpy as np\n",
    "import matplotlib.pyplot as plt\n",
    "\n",
    "print(tf.__version__)"
   ]
  },
  {
   "cell_type": "code",
   "execution_count": 46,
   "metadata": {},
   "outputs": [],
   "source": [
    "from csv import reader\n",
    "\n",
    "train_data = []\n",
    "train_labels = []\n",
    "with open(\"raw_game_data/training.csv\", \"r\") as train_file:\n",
    "    csv_reader = reader(train_file, delimiter=\",\")\n",
    "    next(csv_reader)\n",
    "\n",
    "    for row in csv_reader:\n",
    "        train_labels.append(int(row[0]))\n",
    "        train_data.append(list(map(lambda r: float(r), row[1:])))\n",
    "        \n",
    "test_data = []\n",
    "test_labels = []\n",
    "with open(\"raw_game_data/testing.csv\", \"r\") as train_file:\n",
    "    csv_reader = reader(train_file, delimiter=\",\")\n",
    "    next(csv_reader)\n",
    "\n",
    "    for row in csv_reader:\n",
    "        test_labels.append(int(row[0]))\n",
    "        test_data.append(list(map(lambda r: float(r), row[1:])))"
   ]
  },
  {
   "cell_type": "code",
   "execution_count": 151,
   "metadata": {},
   "outputs": [],
   "source": [
    "model = keras.Sequential([\n",
    "    keras.layers.Dense(128, activation=\"sigmoid\"),\n",
    "    keras.layers.Dense(64, activation=\"sigmoid\"),\n",
    "    keras.layers.Dense(32, activation=\"sigmoid\"),\n",
    "    keras.layers.Dense(2, activation=\"linear\"),\n",
    "])"
   ]
  },
  {
   "cell_type": "code",
   "execution_count": 152,
   "metadata": {},
   "outputs": [],
   "source": [
    "model.compile(\n",
    "    optimizer=\"adam\",\n",
    "    loss=keras.losses.SparseCategoricalCrossentropy(from_logits=True),\n",
    "    metrics=[\"accuracy\"],\n",
    ")"
   ]
  },
  {
   "cell_type": "code",
   "execution_count": 153,
   "metadata": {},
   "outputs": [
    {
     "name": "stdout",
     "output_type": "stream",
     "text": [
      "Epoch 1/10\n",
      "5121/5121 [==============================] - 4s 713us/step - loss: 0.6867 - accuracy: 0.5569\n",
      "Epoch 2/10\n",
      "5121/5121 [==============================] - 4s 722us/step - loss: 0.6824 - accuracy: 0.5637\n",
      "Epoch 3/10\n",
      "5121/5121 [==============================] - 4s 730us/step - loss: 0.6782 - accuracy: 0.5705\n",
      "Epoch 4/10\n",
      "5121/5121 [==============================] - 4s 783us/step - loss: 0.6719 - accuracy: 0.5785\n",
      "Epoch 5/10\n",
      "5121/5121 [==============================] - 4s 777us/step - loss: 0.6675 - accuracy: 0.5825\n",
      "Epoch 6/10\n",
      "5121/5121 [==============================] - 4s 754us/step - loss: 0.6640 - accuracy: 0.5841\n",
      "Epoch 7/10\n",
      "5121/5121 [==============================] - 4s 842us/step - loss: 0.6626 - accuracy: 0.5855\n",
      "Epoch 8/10\n",
      "5121/5121 [==============================] - 5s 887us/step - loss: 0.6594 - accuracy: 0.5903\n",
      "Epoch 9/10\n",
      "5121/5121 [==============================] - 4s 842us/step - loss: 0.6611 - accuracy: 0.5856\n",
      "Epoch 10/10\n",
      "5121/5121 [==============================] - 5s 887us/step - loss: 0.6580 - accuracy: 0.5926\n"
     ]
    },
    {
     "data": {
      "text/plain": [
       "<tensorflow.python.keras.callbacks.History at 0x7f3a8c7a0fa0>"
      ]
     },
     "execution_count": 153,
     "metadata": {},
     "output_type": "execute_result"
    }
   ],
   "source": [
    "model.fit(train_data, train_labels, epochs=10)"
   ]
  },
  {
   "cell_type": "code",
   "execution_count": 154,
   "metadata": {},
   "outputs": [],
   "source": [
    "probability_model = tf.keras.Sequential([\n",
    "    model, \n",
    "    tf.keras.layers.Softmax(),\n",
    "])"
   ]
  },
  {
   "cell_type": "code",
   "execution_count": 155,
   "metadata": {},
   "outputs": [],
   "source": [
    "predictions = list(map(lambda p: np.argmax(p), probability_model.predict(test_data)))"
   ]
  },
  {
   "cell_type": "code",
   "execution_count": 156,
   "metadata": {},
   "outputs": [
    {
     "name": "stdout",
     "output_type": "stream",
     "text": [
      "errors: [10837/29054] 37.29951125490466\n"
     ]
    }
   ],
   "source": [
    "num_errors = 0\n",
    "for index, prediction in enumerate(predictions):\n",
    "    if test_labels[index] != prediction:\n",
    "        num_errors += 1\n",
    "        \n",
    "print(f\"errors: [{num_errors}/{len(predictions)}] {num_errors*100/len(predictions)}\")"
   ]
  },
  {
   "cell_type": "code",
   "execution_count": null,
   "metadata": {},
   "outputs": [],
   "source": []
  },
  {
   "cell_type": "code",
   "execution_count": null,
   "metadata": {},
   "outputs": [],
   "source": []
  },
  {
   "cell_type": "code",
   "execution_count": null,
   "metadata": {},
   "outputs": [],
   "source": []
  }
 ],
 "metadata": {
  "kernelspec": {
   "display_name": "Python 3",
   "language": "python",
   "name": "python3"
  },
  "language_info": {
   "codemirror_mode": {
    "name": "ipython",
    "version": 3
   },
   "file_extension": ".py",
   "mimetype": "text/x-python",
   "name": "python",
   "nbconvert_exporter": "python",
   "pygments_lexer": "ipython3",
   "version": "3.8.2"
  }
 },
 "nbformat": 4,
 "nbformat_minor": 4
}
